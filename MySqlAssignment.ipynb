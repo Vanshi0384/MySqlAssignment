{
 "cells": [
  {
   "cell_type": "markdown",
   "id": "6a15fec0-8f16-4ee1-8aa6-d38b5b2415a1",
   "metadata": {},
   "source": [
    "# MySQL Assignment"
   ]
  },
  {
   "cell_type": "markdown",
   "id": "98fc3e47-c2d4-4ad6-87a4-5c4e8625d83e",
   "metadata": {},
   "source": [
    "Question 1:\n",
    "\n",
    "A database is a structured collection of data that is electronically stored and organized in a way that allows for easy access, retrieval, and management. It's essentially a digital filing system that efficiently stores and organizes information for various purposes. Databases are fundamental components of many software applications, websites, and information systems.\n",
    "\n",
    "Here's a breakdown of the key differences between SQL and NoSQL databases:\n",
    "\n",
    "SQL Databases (Relational Databases):\n",
    "\n",
    "Structure: Structured data. Data is organized into tables with rows (records) and columns (attributes). Enforces relationships between tables using foreign keys.\n",
    "Query Language: Structured Query Language (SQL) is used for querying and manipulating data. SQL provides a powerful and standardized way to interact with relational databases.\n",
    "Schema: Schema-based. The structure and data types of tables are predefined before data is inserted. This ensures data integrity and consistency.\n",
    "Scalability: Primarily vertically scalable (scaling up) by adding more processing power or storage to a single server.\n",
    "Transactions: ACID properties (Atomicity, Consistency, Isolation, Durability) are typically guaranteed, ensuring data integrity during write operations.\n",
    "Use Cases: Well-suited for complex queries requiring joins across multiple tables, data with well-defined schemas, and applications that require strong consistency and data integrity. Examples include financial applications, enterprise resource planning (ERP) systems, and e-commerce platforms.\n",
    "NoSQL Databases (Non-Relational Databases):\n",
    "\n",
    "Structure: Flexible data schema. Data can be stored in various formats like documents, key-value pairs, graphs, or wide-column stores. Less emphasis on rigid table structures.\n",
    "Query Language: Varies depending on the database type. Some NoSQL databases have their own query languages, while others might use document-oriented query languages or key-value retrieval methods.\n",
    "Schema: Schema-less or schema-flexible. Data structure can evolve over time without altering the database schema.\n",
    "Scalability: Primarily horizontally scalable (scaling out) by adding more servers to distribute the data load across multiple machines.\n",
    "Transactions: ACID properties may not be strictly enforced in all NoSQL databases. Focuses on high availability and performance over strict data consistency in some cases.\n",
    "Use Cases: Ideal for large, unstructured datasets, big data applications, and real-time data processing. Examples include social media platforms, content management systems, and internet of things (IoT) data storage.\n",
    "\n"
   ]
  },
  {
   "cell_type": "markdown",
   "id": "a118a426-76e4-410b-b459-6deeb8b9d31c",
   "metadata": {},
   "source": [
    "Question 2:\n",
    "    \n",
    "DDL stands for Data Definition Language. It's a collection of specific SQL statements used to define, create, modify, and remove the structure of database objects like tables, views, indexes, and users. DDL statements don't directly manipulate data within the tables; they focus on defining the database schema itself."
   ]
  },
  {
   "cell_type": "markdown",
   "id": "920c4b07-b6c3-408b-89f0-6eab72ce33bd",
   "metadata": {},
   "source": [
    "CREATE:\n",
    "Purpose: The CREATE statement is used to create new database objects. This is where you define the structure of your tables, specifying their columns (attributes) and data types.\n",
    "Example:\n",
    "SQL\n",
    "CREATE TABLE Customers (\n",
    "    customer_id INT PRIMARY KEY,\n",
    "    name VARCHAR(255) NOT NULL,\n",
    "    email VARCHAR(255) UNIQUE,\n",
    "    phone_number CHAR(10)\n",
    ");\n",
    "\n",
    "DROP:\n",
    "\n",
    "Purpose: The DROP statement is used to remove existing database objects entirely. It's permanent, so use it with caution.\n",
    "Example:\n",
    "SQL\n",
    "DROP TABLE Orders;\n",
    "\n",
    "ALTER:\n",
    "\n",
    "Purpose: The ALTER statement allows you to modify the structure of existing database objects. You can add new columns, modify existing ones (data type, constraints), or drop columns entirely.\n",
    "Example:\n",
    "SQL\n",
    "ALTER TABLE Customers ADD COLUMN city VARCHAR(255);\n",
    "\n",
    "TRUNCATE:\n",
    "\n",
    "Purpose: The TRUNCATE statement is used to delete all data (rows) from a table, but it preserves the table structure itself. It's generally faster than using DELETE without a WHERE clause, as it doesn't need to check conditions for each row. However, it's also permanent and cannot be undone.\n",
    "Example:\n",
    "SQL\n",
    "TRUNCATE TABLE Products;\n",
    "\n"
   ]
  },
  {
   "cell_type": "markdown",
   "id": "bdfe806e-df05-45a6-b691-d2abf5824eb9",
   "metadata": {},
   "source": [
    "Question 3:"
   ]
  },
  {
   "cell_type": "markdown",
   "id": "8b5136c0-6c50-4db0-a554-77dcb1c64ab7",
   "metadata": {},
   "source": [
    "DML stands for Data Manipulation Language. It's a collection of SQL statements used to interact with the actual data stored within tables. DML statements allow you to insert, update, and delete data from existing tables, as defined by the database schema created using DDL (Data Definition Language).\n",
    "\n",
    "INSERT:\n",
    "\n",
    "Purpose: The INSERT statement is used to add new rows (records) of data to a table. You specify the values for each column in the new row.\n",
    "Example:\n",
    "SQL\n",
    "INSERT INTO Customers (customer_id, name, email, phone_number)\n",
    "VALUES (1001, 'John Doe', 'john.doe@example.com', '123-456-7890');\n",
    "\n",
    "UPDATE:\n",
    "\n",
    "Purpose: The UPDATE statement allows you to modify existing data in a table. You can update specific columns in rows that meet certain conditions.\n",
    "Example:\n",
    "SQL\n",
    "UPDATE Customers\n",
    "SET email = 'jane.doe@example.com'\n",
    "WHERE customer_id = 1002;\n",
    "\n",
    "DELETE:\n",
    "\n",
    "Purpose: The DELETE statement is used to remove rows from a table. You can delete all rows or specific rows based on a condition.\n",
    "Example:\n",
    "SQL\n",
    "DELETE FROM Orders\n",
    "WHERE order_date < '2024-01-01';"
   ]
  },
  {
   "cell_type": "markdown",
   "id": "e9cb189d-8118-4e93-92c6-15def2d797c8",
   "metadata": {},
   "source": [
    "Question 4:\n",
    "DQL stands for Data Query Language. It's a subset of SQL (Structured Query Language) specifically focused on retrieving data from a database. DQL statements don't modify the data itself; they allow you to extract and manipulate the data for various purposes, such as generating reports, populating web pages, or performing data analysis.\n",
    "\n",
    "Purpose: The SELECT statement is the primary tool for retrieving data from tables in a relational database. It allows you to specify which columns and rows you want to extract and apply filtering or sorting conditions.\n",
    "Example:\n",
    "SQL\n",
    "SELECT customer_id, name, email\n",
    "FROM Customers\n",
    "WHERE city = 'New York';\n",
    "\n"
   ]
  },
  {
   "cell_type": "markdown",
   "id": "69013538-f373-4bb9-82cc-0289f5103fd5",
   "metadata": {},
   "source": [
    "Question 5:\n",
    "\n",
    "Primary Key (PK):\n",
    "\n",
    "A primary key is a unique identifier for a row (record) within a table. It ensures that no two rows have the same value for the primary key column(s).\n",
    "A table can only have one primary key. It's the foundation for enforcing data integrity and uniqueness within a table.\n",
    "Primary keys are often chosen to be immutable (unchanging) values like IDs or unique codes to guarantee distinct identification.\n",
    "Foreign Key (FK):\n",
    "\n",
    "A foreign key is a column (or set of columns) in one table that references the primary key of another table. It creates a link between related data across tables.\n",
    "A table can have multiple foreign keys, each referencing a different primary key in another table.\n",
    "Foreign keys help prevent orphaned data (data entries in one table that reference non-existent entries in another table)."
   ]
  },
  {
   "cell_type": "markdown",
   "id": "a99da4cb-211c-4272-b786-887aebc38000",
   "metadata": {},
   "source": [
    "Question 6:\n",
    "\n"
   ]
  },
  {
   "cell_type": "code",
   "execution_count": null,
   "id": "ccc1534e-b48f-4003-96e9-e6f701b328d5",
   "metadata": {},
   "outputs": [],
   "source": [
    "import mysql.connector\n",
    "\n",
    "# Database connection details\n",
    "hostname = \"localhost\"\n",
    "username = \"your_username\"\n",
    "password = \"your_password\"\n",
    "database = \"your_database\"\n",
    "\n",
    "try:\n",
    "  # Connect to the MySQL database\n",
    "  mydb = mysql.connector.connect(\n",
    "      host=hostname,\n",
    "      user=username,\n",
    "      password=password,\n",
    "      database=database\n",
    "  )\n",
    "\n",
    "  # Create a cursor object\n",
    "  mycursor = mydb.cursor()\n",
    "\n",
    "  # Sample query to execute\n",
    "  sql = \"SELECT * FROM customers\"  # Replace with your desired query\n",
    "\n",
    "  # Execute the query\n",
    "  mycursor.execute(sql)\n",
    "\n",
    "  # Fetch results (if applicable)\n",
    "  myresult = mycursor.fetchall()\n",
    "\n",
    "  # Print the results (optional)\n",
    "  for row in myresult:\n",
    "      print(row)\n",
    "\n",
    "except mysql.connector.Error as err:\n",
    "  print(\"Error connecting to database:\", err)\n",
    "finally:\n",
    "  # Close the cursor and connection (optional, but good practice)\n",
    "  if mycursor:\n",
    "      mycursor.close()\n",
    "  if mydb:\n",
    "      mydb.close()\n",
    "\n",
    "print(\"Database connection closed.\")\n"
   ]
  },
  {
   "cell_type": "markdown",
   "id": "1b472015-dee9-4aa5-a47f-11a5826e633a",
   "metadata": {},
   "source": [
    "Question 7:\n"
   ]
  },
  {
   "cell_type": "code",
   "execution_count": null,
   "id": "9b789617-459b-4b3f-98c0-db67d3950a74",
   "metadata": {},
   "outputs": [],
   "source": []
  }
 ],
 "metadata": {
  "kernelspec": {
   "display_name": "Python 3 (ipykernel)",
   "language": "python",
   "name": "python3"
  },
  "language_info": {
   "codemirror_mode": {
    "name": "ipython",
    "version": 3
   },
   "file_extension": ".py",
   "mimetype": "text/x-python",
   "name": "python",
   "nbconvert_exporter": "python",
   "pygments_lexer": "ipython3",
   "version": "3.10.8"
  }
 },
 "nbformat": 4,
 "nbformat_minor": 5
}
